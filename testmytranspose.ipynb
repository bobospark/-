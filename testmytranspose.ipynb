{
 "cells": [
  {
   "cell_type": "code",
   "execution_count": 1,
   "metadata": {},
   "outputs": [],
   "source": [
    "import numpy as np\n",
    "from mytranspose import mytranspose, mytransposeForDataFrame\n",
    "\n",
    "import pandas as pd\n"
   ]
  },
  {
   "cell_type": "code",
   "execution_count": 4,
   "metadata": {},
   "outputs": [],
   "source": [
    "myvar1 = np.array(range(1,11)).reshape(5,2)\n",
    "testvar1 = np.array(range(1,11)).reshape(5,2).T\n",
    "value1 = mytranspose(myvar1)\n",
    "\n",
    "assert (value1 == testvar1).all()"
   ]
  },
  {
   "cell_type": "code",
   "execution_count": 7,
   "metadata": {},
   "outputs": [],
   "source": [
    "# myvar1 <- matrix(NA, nrow=0, ncol=0)\n",
    "myvar1 = np.empty((0, 0))\n",
    "testvar1 = np.empty((0, 0)).T\n",
    "value1 = mytranspose(myvar1)\n",
    "\n",
    "assert (value1 == testvar1).all()\n",
    "\n"
   ]
  },
  {
   "cell_type": "code",
   "execution_count": 9,
   "metadata": {},
   "outputs": [],
   "source": [
    "# myvar1 <- matrix(c(1,2), nrow=1, ncol=2)\n",
    "myvar1 = np.array([1, 2]).reshape(1, 2)\n",
    "testvar1 = np.array([1, 2]).reshape(1, 2).T\n",
    "value1 = mytranspose(myvar1)\n",
    "assert (value1 == testvar1).all()\n",
    "\n"
   ]
  },
  {
   "cell_type": "code",
   "execution_count": 8,
   "metadata": {},
   "outputs": [],
   "source": [
    "# myvar1 <- matrix(c(1,2), nrow=2, ncol=1)\n",
    "myvar1 = np.array([1, 2]).reshape(2, 1)\n",
    "testvar1 =  np.array([1, 2]).reshape(2, 1).T\n",
    "\n",
    "\n",
    "value1 = mytranspose(myvar1)\n",
    "assert (value1 == testvar1).all()\n"
   ]
  },
  {
   "cell_type": "markdown",
   "metadata": {},
   "source": []
  },
  {
   "cell_type": "code",
   "execution_count": 5,
   "metadata": {},
   "outputs": [],
   "source": [
    "# d <- c(1,2,3,4)\n",
    "d = np.array([1, 2, 3, 4])\n",
    "\n",
    "# e <- c(\"red\", \"white\", \"red\", NA)\n",
    "e = np.array([\"red\", \"white\", \"red\", np.nan])\n",
    "\n",
    "# f <- c(TRUE,TRUE,TRUE,FALSE)\n",
    "f = np.array([True, True, True, False])\n",
    "\n",
    "# mydata3 <- data.frame(d,e,f)\n",
    "mydata3 = pd.DataFrame({'d': d, 'e': e, 'f': f})"
   ]
  },
  {
   "cell_type": "code",
   "execution_count": 6,
   "metadata": {},
   "outputs": [
    {
     "data": {
      "text/html": [
       "<div>\n",
       "<style scoped>\n",
       "    .dataframe tbody tr th:only-of-type {\n",
       "        vertical-align: middle;\n",
       "    }\n",
       "\n",
       "    .dataframe tbody tr th {\n",
       "        vertical-align: top;\n",
       "    }\n",
       "\n",
       "    .dataframe thead th {\n",
       "        text-align: right;\n",
       "    }\n",
       "</style>\n",
       "<table border=\"1\" class=\"dataframe\">\n",
       "  <thead>\n",
       "    <tr style=\"text-align: right;\">\n",
       "      <th></th>\n",
       "      <th>0</th>\n",
       "      <th>1</th>\n",
       "      <th>2</th>\n",
       "      <th>3</th>\n",
       "    </tr>\n",
       "  </thead>\n",
       "  <tbody>\n",
       "    <tr>\n",
       "      <th>d</th>\n",
       "      <td>1</td>\n",
       "      <td>2</td>\n",
       "      <td>3</td>\n",
       "      <td>4</td>\n",
       "    </tr>\n",
       "    <tr>\n",
       "      <th>e</th>\n",
       "      <td>red</td>\n",
       "      <td>white</td>\n",
       "      <td>red</td>\n",
       "      <td>nan</td>\n",
       "    </tr>\n",
       "    <tr>\n",
       "      <th>f</th>\n",
       "      <td>True</td>\n",
       "      <td>True</td>\n",
       "      <td>True</td>\n",
       "      <td>False</td>\n",
       "    </tr>\n",
       "  </tbody>\n",
       "</table>\n",
       "</div>"
      ],
      "text/plain": [
       "      0      1     2      3\n",
       "d     1      2     3      4\n",
       "e   red  white   red    nan\n",
       "f  True   True  True  False"
      ]
     },
     "execution_count": 6,
     "metadata": {},
     "output_type": "execute_result"
    }
   ],
   "source": [
    "mydata3\n",
    "mytransposeForDataFrame(mydata3)"
   ]
  },
  {
   "cell_type": "code",
   "execution_count": 9,
   "metadata": {},
   "outputs": [
    {
     "data": {
      "text/plain": [
       "array([[1, 1, 2, 2],\n",
       "       [3, 3, 4, 4]])"
      ]
     },
     "execution_count": 9,
     "metadata": {},
     "output_type": "execute_result"
    }
   ],
   "source": [
    "new_matrix = np.array([[1,1,2,2],[3,3,4,4]])\n",
    "new_matrix\n"
   ]
  },
  {
   "cell_type": "code",
   "execution_count": 10,
   "metadata": {},
   "outputs": [
    {
     "data": {
      "text/plain": [
       "array([[1., 3.],\n",
       "       [1., 3.],\n",
       "       [2., 4.],\n",
       "       [2., 4.]])"
      ]
     },
     "execution_count": 10,
     "metadata": {},
     "output_type": "execute_result"
    }
   ],
   "source": [
    "mytranspose(new_matrix)"
   ]
  },
  {
   "cell_type": "code",
   "execution_count": null,
   "metadata": {},
   "outputs": [],
   "source": []
  }
 ],
 "metadata": {
  "kernelspec": {
   "display_name": "base",
   "language": "python",
   "name": "python3"
  },
  "language_info": {
   "codemirror_mode": {
    "name": "ipython",
    "version": 3
   },
   "file_extension": ".py",
   "mimetype": "text/x-python",
   "name": "python",
   "nbconvert_exporter": "python",
   "pygments_lexer": "ipython3",
   "version": "3.9.12"
  },
  "orig_nbformat": 4,
  "vscode": {
   "interpreter": {
    "hash": "ad2bdc8ecc057115af97d19610ffacc2b4e99fae6737bb82f5d7fb13d2f2c186"
   }
  }
 },
 "nbformat": 4,
 "nbformat_minor": 2
}
